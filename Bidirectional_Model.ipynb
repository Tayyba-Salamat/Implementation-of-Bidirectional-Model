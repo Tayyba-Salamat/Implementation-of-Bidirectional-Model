{
  "nbformat": 4,
  "nbformat_minor": 0,
  "metadata": {
    "colab": {
      "provenance": [],
      "gpuType": "T4"
    },
    "kernelspec": {
      "name": "python3",
      "display_name": "Python 3"
    },
    "language_info": {
      "name": "python"
    },
    "accelerator": "GPU"
  },
  "cells": [
    {
      "cell_type": "markdown",
      "source": [
        "#Importing Dataset"
      ],
      "metadata": {
        "id": "KaGGnTNR5Py8"
      }
    },
    {
      "cell_type": "code",
      "execution_count": null,
      "metadata": {
        "colab": {
          "base_uri": "https://localhost:8080/"
        },
        "id": "32B9x1GG4rKy",
        "outputId": "88b6b840-e058-4348-8af3-0ac06a672f19"
      },
      "outputs": [
        {
          "output_type": "stream",
          "name": "stdout",
          "text": [
            "Looking in indexes: https://pypi.org/simple, https://us-python.pkg.dev/colab-wheels/public/simple/\n",
            "Requirement already satisfied: wget in /usr/local/lib/python3.10/dist-packages (3.2)\n",
            "Archive:  sentiment140-subset.csv.zip\n"
          ]
        }
      ],
      "source": [
        "! pip3 install wget\n",
        "\n",
        "import wget\n",
        "wget.download(\"https://nyc3.digitaloceanspaces.com/ml-files-distro/v1/sentiment-analysis-is-bad/data/sentiment140-subset.csv.zip\")\n",
        "\n",
        "!unzip -n sentiment140-subset.csv.zip"
      ]
    },
    {
      "cell_type": "markdown",
      "source": [
        "#Loading Dataset"
      ],
      "metadata": {
        "id": "CXUKH6P_5WLG"
      }
    },
    {
      "cell_type": "code",
      "source": [
        "import pandas as pd\n",
        "data = pd.read_csv('sentiment140-subset.csv', nrows=50000)"
      ],
      "metadata": {
        "id": "sV7HgD5Y5OHF"
      },
      "execution_count": null,
      "outputs": []
    },
    {
      "cell_type": "code",
      "source": [
        "data.columns"
      ],
      "metadata": {
        "colab": {
          "base_uri": "https://localhost:8080/"
        },
        "id": "9B0gzIYs5nEw",
        "outputId": "156c41be-e3eb-4364-d18f-be5776280917"
      },
      "execution_count": null,
      "outputs": [
        {
          "output_type": "execute_result",
          "data": {
            "text/plain": [
              "Index(['polarity', 'text'], dtype='object')"
            ]
          },
          "metadata": {},
          "execution_count": 26
        }
      ]
    },
    {
      "cell_type": "code",
      "source": [
        "data.head()\n",
        "#0 indicates negativity and 1 indicates positivity of polarity"
      ],
      "metadata": {
        "colab": {
          "base_uri": "https://localhost:8080/",
          "height": 206
        },
        "id": "AUOfQ49X5pLd",
        "outputId": "0213000c-5779-417c-dc71-2fd7c04ac67b"
      },
      "execution_count": null,
      "outputs": [
        {
          "output_type": "execute_result",
          "data": {
            "text/plain": [
              "   polarity                                               text\n",
              "0         0                      @kconsidder You never tweet  \n",
              "1         0                 Sick today  coding from the couch.\n",
              "2         1  @ChargerJenn Thx for answering so quick,I was ...\n",
              "3         1  Wii fit says I've lost 10 pounds since last ti...\n",
              "4         0  @MrKinetik Not a thing!!!  I don't really have..."
            ],
            "text/html": [
              "\n",
              "  <div id=\"df-c0f9a845-2797-418a-896f-4c7dd2290fc3\">\n",
              "    <div class=\"colab-df-container\">\n",
              "      <div>\n",
              "<style scoped>\n",
              "    .dataframe tbody tr th:only-of-type {\n",
              "        vertical-align: middle;\n",
              "    }\n",
              "\n",
              "    .dataframe tbody tr th {\n",
              "        vertical-align: top;\n",
              "    }\n",
              "\n",
              "    .dataframe thead th {\n",
              "        text-align: right;\n",
              "    }\n",
              "</style>\n",
              "<table border=\"1\" class=\"dataframe\">\n",
              "  <thead>\n",
              "    <tr style=\"text-align: right;\">\n",
              "      <th></th>\n",
              "      <th>polarity</th>\n",
              "      <th>text</th>\n",
              "    </tr>\n",
              "  </thead>\n",
              "  <tbody>\n",
              "    <tr>\n",
              "      <th>0</th>\n",
              "      <td>0</td>\n",
              "      <td>@kconsidder You never tweet</td>\n",
              "    </tr>\n",
              "    <tr>\n",
              "      <th>1</th>\n",
              "      <td>0</td>\n",
              "      <td>Sick today  coding from the couch.</td>\n",
              "    </tr>\n",
              "    <tr>\n",
              "      <th>2</th>\n",
              "      <td>1</td>\n",
              "      <td>@ChargerJenn Thx for answering so quick,I was ...</td>\n",
              "    </tr>\n",
              "    <tr>\n",
              "      <th>3</th>\n",
              "      <td>1</td>\n",
              "      <td>Wii fit says I've lost 10 pounds since last ti...</td>\n",
              "    </tr>\n",
              "    <tr>\n",
              "      <th>4</th>\n",
              "      <td>0</td>\n",
              "      <td>@MrKinetik Not a thing!!!  I don't really have...</td>\n",
              "    </tr>\n",
              "  </tbody>\n",
              "</table>\n",
              "</div>\n",
              "      <button class=\"colab-df-convert\" onclick=\"convertToInteractive('df-c0f9a845-2797-418a-896f-4c7dd2290fc3')\"\n",
              "              title=\"Convert this dataframe to an interactive table.\"\n",
              "              style=\"display:none;\">\n",
              "        \n",
              "  <svg xmlns=\"http://www.w3.org/2000/svg\" height=\"24px\"viewBox=\"0 0 24 24\"\n",
              "       width=\"24px\">\n",
              "    <path d=\"M0 0h24v24H0V0z\" fill=\"none\"/>\n",
              "    <path d=\"M18.56 5.44l.94 2.06.94-2.06 2.06-.94-2.06-.94-.94-2.06-.94 2.06-2.06.94zm-11 1L8.5 8.5l.94-2.06 2.06-.94-2.06-.94L8.5 2.5l-.94 2.06-2.06.94zm10 10l.94 2.06.94-2.06 2.06-.94-2.06-.94-.94-2.06-.94 2.06-2.06.94z\"/><path d=\"M17.41 7.96l-1.37-1.37c-.4-.4-.92-.59-1.43-.59-.52 0-1.04.2-1.43.59L10.3 9.45l-7.72 7.72c-.78.78-.78 2.05 0 2.83L4 21.41c.39.39.9.59 1.41.59.51 0 1.02-.2 1.41-.59l7.78-7.78 2.81-2.81c.8-.78.8-2.07 0-2.86zM5.41 20L4 18.59l7.72-7.72 1.47 1.35L5.41 20z\"/>\n",
              "  </svg>\n",
              "      </button>\n",
              "      \n",
              "  <style>\n",
              "    .colab-df-container {\n",
              "      display:flex;\n",
              "      flex-wrap:wrap;\n",
              "      gap: 12px;\n",
              "    }\n",
              "\n",
              "    .colab-df-convert {\n",
              "      background-color: #E8F0FE;\n",
              "      border: none;\n",
              "      border-radius: 50%;\n",
              "      cursor: pointer;\n",
              "      display: none;\n",
              "      fill: #1967D2;\n",
              "      height: 32px;\n",
              "      padding: 0 0 0 0;\n",
              "      width: 32px;\n",
              "    }\n",
              "\n",
              "    .colab-df-convert:hover {\n",
              "      background-color: #E2EBFA;\n",
              "      box-shadow: 0px 1px 2px rgba(60, 64, 67, 0.3), 0px 1px 3px 1px rgba(60, 64, 67, 0.15);\n",
              "      fill: #174EA6;\n",
              "    }\n",
              "\n",
              "    [theme=dark] .colab-df-convert {\n",
              "      background-color: #3B4455;\n",
              "      fill: #D2E3FC;\n",
              "    }\n",
              "\n",
              "    [theme=dark] .colab-df-convert:hover {\n",
              "      background-color: #434B5C;\n",
              "      box-shadow: 0px 1px 3px 1px rgba(0, 0, 0, 0.15);\n",
              "      filter: drop-shadow(0px 1px 2px rgba(0, 0, 0, 0.3));\n",
              "      fill: #FFFFFF;\n",
              "    }\n",
              "  </style>\n",
              "\n",
              "      <script>\n",
              "        const buttonEl =\n",
              "          document.querySelector('#df-c0f9a845-2797-418a-896f-4c7dd2290fc3 button.colab-df-convert');\n",
              "        buttonEl.style.display =\n",
              "          google.colab.kernel.accessAllowed ? 'block' : 'none';\n",
              "\n",
              "        async function convertToInteractive(key) {\n",
              "          const element = document.querySelector('#df-c0f9a845-2797-418a-896f-4c7dd2290fc3');\n",
              "          const dataTable =\n",
              "            await google.colab.kernel.invokeFunction('convertToInteractive',\n",
              "                                                     [key], {});\n",
              "          if (!dataTable) return;\n",
              "\n",
              "          const docLinkHtml = 'Like what you see? Visit the ' +\n",
              "            '<a target=\"_blank\" href=https://colab.research.google.com/notebooks/data_table.ipynb>data table notebook</a>'\n",
              "            + ' to learn more about interactive tables.';\n",
              "          element.innerHTML = '';\n",
              "          dataTable['output_type'] = 'display_data';\n",
              "          await google.colab.output.renderOutput(dataTable, element);\n",
              "          const docLink = document.createElement('div');\n",
              "          docLink.innerHTML = docLinkHtml;\n",
              "          element.appendChild(docLink);\n",
              "        }\n",
              "      </script>\n",
              "    </div>\n",
              "  </div>\n",
              "  "
            ]
          },
          "metadata": {},
          "execution_count": 27
        }
      ]
    },
    {
      "cell_type": "code",
      "source": [
        "data.info()"
      ],
      "metadata": {
        "colab": {
          "base_uri": "https://localhost:8080/"
        },
        "id": "G2eP_u6f5wE6",
        "outputId": "a1361340-cfae-4c8f-a1fe-ebb9a2168472"
      },
      "execution_count": null,
      "outputs": [
        {
          "output_type": "stream",
          "name": "stdout",
          "text": [
            "<class 'pandas.core.frame.DataFrame'>\n",
            "RangeIndex: 50000 entries, 0 to 49999\n",
            "Data columns (total 2 columns):\n",
            " #   Column    Non-Null Count  Dtype \n",
            "---  ------    --------------  ----- \n",
            " 0   polarity  50000 non-null  int64 \n",
            " 1   text      50000 non-null  object\n",
            "dtypes: int64(1), object(1)\n",
            "memory usage: 781.4+ KB\n"
          ]
        }
      ]
    },
    {
      "cell_type": "code",
      "source": [
        "import re\n",
        "import tensorflow as tf\n",
        "max_features = 4000   #setting maximum length for tockenization"
      ],
      "metadata": {
        "id": "Nhwz-3JN6A8I"
      },
      "execution_count": null,
      "outputs": []
    },
    {
      "cell_type": "markdown",
      "source": [
        "#Fitting the tokenizer onto the text"
      ],
      "metadata": {
        "id": "kF9itsDD75VL"
      }
    },
    {
      "cell_type": "code",
      "source": [
        "tokenizer = tf.keras.preprocessing.text.Tokenizer(num_words=max_features, split=' ')\n",
        "tokenizer.fit_on_texts(data['text'].values)"
      ],
      "metadata": {
        "id": "o__3-UZw7ltn"
      },
      "execution_count": null,
      "outputs": []
    },
    {
      "cell_type": "code",
      "source": [
        "X = tokenizer.texts_to_sequences(data['text'].values)"
      ],
      "metadata": {
        "id": "2AKpIdBD8DkM"
      },
      "execution_count": null,
      "outputs": []
    },
    {
      "cell_type": "code",
      "source": [
        "#Padding the tokenized sequences to maintain the same length across all the input sequences\n",
        "X = tf.keras.preprocessing.sequence.pad_sequences(X)"
      ],
      "metadata": {
        "id": "8F0QD7Rh8Lnr"
      },
      "execution_count": null,
      "outputs": []
    },
    {
      "cell_type": "code",
      "source": [
        "X.shape"
      ],
      "metadata": {
        "colab": {
          "base_uri": "https://localhost:8080/"
        },
        "id": "-8KOfvKH8plO",
        "outputId": "49264806-9897-420b-d437-0a60f8f24f49"
      },
      "execution_count": null,
      "outputs": [
        {
          "output_type": "execute_result",
          "data": {
            "text/plain": [
              "(50000, 35)"
            ]
          },
          "metadata": {},
          "execution_count": 33
        }
      ]
    },
    {
      "cell_type": "markdown",
      "source": [
        "#Creating Model"
      ],
      "metadata": {
        "id": "dBSoyz7g9H92"
      }
    },
    {
      "cell_type": "code",
      "source": [
        "embed_dim = 256\n",
        "lstm_out = 196\n",
        "model = tf.keras.Sequential()\n",
        "model.add(tf.keras.layers.Embedding(max_features, embed_dim, input_length = X.shape[1]))\n",
        "model.add(tf.keras.layers.SpatialDropout1D(0.4))\n",
        "model.add(tf.keras.layers.Bidirectional(tf.keras.layers.LSTM(lstm_out, dropout=0.05, recurrent_dropout=0.2)))\n",
        "model.add(tf.keras.layers.Dense(2, activation='softmax'))\n",
        "model.compile(loss = 'categorical_crossentropy', optimizer='adam', metrics = ['accuracy'])"
      ],
      "metadata": {
        "colab": {
          "base_uri": "https://localhost:8080/"
        },
        "id": "M6MpOiq19NB-",
        "outputId": "d5885389-fef4-4b0f-c752-067ae890535d"
      },
      "execution_count": null,
      "outputs": [
        {
          "output_type": "stream",
          "name": "stderr",
          "text": [
            "WARNING:tensorflow:Layer lstm_1 will not use cuDNN kernels since it doesn't meet the criteria. It will use a generic GPU kernel as fallback when running on GPU.\n",
            "WARNING:tensorflow:Layer lstm_1 will not use cuDNN kernels since it doesn't meet the criteria. It will use a generic GPU kernel as fallback when running on GPU.\n",
            "WARNING:tensorflow:Layer lstm_1 will not use cuDNN kernels since it doesn't meet the criteria. It will use a generic GPU kernel as fallback when running on GPU.\n"
          ]
        }
      ]
    },
    {
      "cell_type": "markdown",
      "source": [
        "#Model Summary"
      ],
      "metadata": {
        "id": "oGZnEkTh-Avj"
      }
    },
    {
      "cell_type": "code",
      "source": [
        "model.summary()"
      ],
      "metadata": {
        "colab": {
          "base_uri": "https://localhost:8080/"
        },
        "id": "9pS-ZpG2-DCa",
        "outputId": "190e0935-c4e5-429c-cf6c-6f8c60b7e0c6"
      },
      "execution_count": null,
      "outputs": [
        {
          "output_type": "stream",
          "name": "stdout",
          "text": [
            "Model: \"sequential_1\"\n",
            "_________________________________________________________________\n",
            " Layer (type)                Output Shape              Param #   \n",
            "=================================================================\n",
            " embedding_1 (Embedding)     (None, 35, 256)           1024000   \n",
            "                                                                 \n",
            " spatial_dropout1d_1 (Spatia  (None, 35, 256)          0         \n",
            " lDropout1D)                                                     \n",
            "                                                                 \n",
            " bidirectional_1 (Bidirectio  (None, 392)              710304    \n",
            " nal)                                                            \n",
            "                                                                 \n",
            " dense_1 (Dense)             (None, 2)                 786       \n",
            "                                                                 \n",
            "=================================================================\n",
            "Total params: 1,735,090\n",
            "Trainable params: 1,735,090\n",
            "Non-trainable params: 0\n",
            "_________________________________________________________________\n"
          ]
        }
      ]
    },
    {
      "cell_type": "markdown",
      "source": [
        "#Train Test Splitting"
      ],
      "metadata": {
        "id": "sKrmJ6h--UOU"
      }
    },
    {
      "cell_type": "code",
      "source": [
        "import numpy as np\n",
        "from sklearn.model_selection import train_test_split"
      ],
      "metadata": {
        "id": "YAX6_dv--Xid"
      },
      "execution_count": null,
      "outputs": []
    },
    {
      "cell_type": "code",
      "source": [
        "#Doing One Hot Encoding\n",
        "Y = pd.get_dummies(data['polarity'])"
      ],
      "metadata": {
        "id": "OQoJc_Va-lr6"
      },
      "execution_count": null,
      "outputs": []
    },
    {
      "cell_type": "code",
      "source": [
        "#mapping 0 and 1 as negative and positive polarity respectively\n",
        "result_dict = {0: 'Negative', 1: 'Positive'}\n",
        "y_arr = np.vectorize(result_dict.get)(Y.columns)"
      ],
      "metadata": {
        "id": "VVO3Mj67-1T0"
      },
      "execution_count": null,
      "outputs": []
    },
    {
      "cell_type": "code",
      "source": [
        "Y = Y.values"
      ],
      "metadata": {
        "id": "tWBGIHNjAetq"
      },
      "execution_count": null,
      "outputs": []
    },
    {
      "cell_type": "code",
      "source": [
        "#Split train and test data\n",
        "X_train, X_test, Y_train, Y_test = train_test_split(X, Y, test_size = 0.2, random_state = 42)"
      ],
      "metadata": {
        "id": "lOhuejRDAtAj"
      },
      "execution_count": null,
      "outputs": []
    },
    {
      "cell_type": "code",
      "source": [
        "print(X_train.shape, Y_train.shape)"
      ],
      "metadata": {
        "colab": {
          "base_uri": "https://localhost:8080/"
        },
        "id": "MRyBJRYXBS0k",
        "outputId": "8b0d2e02-a9e7-4b85-c040-2cbc1ebe668a"
      },
      "execution_count": null,
      "outputs": [
        {
          "output_type": "stream",
          "name": "stdout",
          "text": [
            "(40000, 35) (40000, 2)\n"
          ]
        }
      ]
    },
    {
      "cell_type": "markdown",
      "source": [
        "#Training Model"
      ],
      "metadata": {
        "id": "q3ozl0-TTdbS"
      }
    },
    {
      "cell_type": "code",
      "source": [
        "history = model.fit(X_train, Y_train, epochs=20, batch_size=500, verbose=2)"
      ],
      "metadata": {
        "colab": {
          "base_uri": "https://localhost:8080/"
        },
        "id": "NLgwK5aTTjTo",
        "outputId": "955359f9-df1d-4a2f-b329-2e12628b026b"
      },
      "execution_count": null,
      "outputs": [
        {
          "output_type": "stream",
          "name": "stdout",
          "text": [
            "Epoch 1/20\n",
            "80/80 - 34s - loss: 0.5673 - accuracy: 0.6967 - 34s/epoch - 424ms/step\n",
            "Epoch 2/20\n",
            "80/80 - 20s - loss: 0.4579 - accuracy: 0.7887 - 20s/epoch - 244ms/step\n",
            "Epoch 3/20\n",
            "80/80 - 12s - loss: 0.4290 - accuracy: 0.8035 - 12s/epoch - 155ms/step\n",
            "Epoch 4/20\n",
            "80/80 - 13s - loss: 0.4106 - accuracy: 0.8132 - 13s/epoch - 158ms/step\n",
            "Epoch 5/20\n",
            "80/80 - 13s - loss: 0.3915 - accuracy: 0.8223 - 13s/epoch - 158ms/step\n",
            "Epoch 6/20\n",
            "80/80 - 12s - loss: 0.3719 - accuracy: 0.8338 - 12s/epoch - 146ms/step\n",
            "Epoch 7/20\n",
            "80/80 - 11s - loss: 0.3538 - accuracy: 0.8424 - 11s/epoch - 137ms/step\n",
            "Epoch 8/20\n",
            "80/80 - 11s - loss: 0.3340 - accuracy: 0.8478 - 11s/epoch - 140ms/step\n",
            "Epoch 9/20\n",
            "80/80 - 12s - loss: 0.3165 - accuracy: 0.8576 - 12s/epoch - 144ms/step\n",
            "Epoch 10/20\n",
            "80/80 - 11s - loss: 0.2962 - accuracy: 0.8679 - 11s/epoch - 142ms/step\n",
            "Epoch 11/20\n",
            "80/80 - 11s - loss: 0.2790 - accuracy: 0.8764 - 11s/epoch - 134ms/step\n",
            "Epoch 12/20\n",
            "80/80 - 12s - loss: 0.2652 - accuracy: 0.8820 - 12s/epoch - 145ms/step\n",
            "Epoch 13/20\n",
            "80/80 - 10s - loss: 0.2524 - accuracy: 0.8880 - 10s/epoch - 126ms/step\n",
            "Epoch 14/20\n",
            "80/80 - 10s - loss: 0.2344 - accuracy: 0.8968 - 10s/epoch - 131ms/step\n",
            "Epoch 15/20\n",
            "80/80 - 11s - loss: 0.2263 - accuracy: 0.9025 - 11s/epoch - 132ms/step\n",
            "Epoch 16/20\n",
            "80/80 - 10s - loss: 0.2107 - accuracy: 0.9082 - 10s/epoch - 127ms/step\n",
            "Epoch 17/20\n",
            "80/80 - 11s - loss: 0.1977 - accuracy: 0.9158 - 11s/epoch - 133ms/step\n",
            "Epoch 18/20\n",
            "80/80 - 10s - loss: 0.1897 - accuracy: 0.9192 - 10s/epoch - 127ms/step\n",
            "Epoch 19/20\n",
            "80/80 - 11s - loss: 0.1775 - accuracy: 0.9258 - 11s/epoch - 132ms/step\n",
            "Epoch 20/20\n",
            "80/80 - 11s - loss: 0.1700 - accuracy: 0.9283 - 11s/epoch - 132ms/step\n"
          ]
        }
      ]
    },
    {
      "cell_type": "markdown",
      "source": [
        "#Evaluate the model on the test set"
      ],
      "metadata": {
        "id": "qlcgsD63YGQQ"
      }
    },
    {
      "cell_type": "code",
      "source": [
        "import matplotlib.pyplot as plt\n",
        "\n",
        "plt.plot(history.history['accuracy'])\n",
        "plt.title('model accuracy')\n",
        "plt.ylabel('accuracy')\n",
        "plt.xlabel('epoch')\n",
        "plt.legend(['train'], loc='upper left')\n",
        "plt.show()\n",
        "\n",
        "plt.plot(history.history['loss'])\n",
        "plt.title('model loss')\n",
        "plt.ylabel('loss')\n",
        "plt.xlabel('epoch')\n",
        "plt.legend(['train'], loc='upper left')\n",
        "plt.show()"
      ],
      "metadata": {
        "id": "PsOgAzD-Tmjb",
        "colab": {
          "base_uri": "https://localhost:8080/",
          "height": 927
        },
        "outputId": "5cd4e3a9-33a3-4cee-d933-162c53961128"
      },
      "execution_count": null,
      "outputs": [
        {
          "output_type": "display_data",
          "data": {
            "text/plain": [
              "<Figure size 640x480 with 1 Axes>"
            ],
            "image/png": "[encoded data removed]"
          },
          "metadata": {}
        },
        {
          "output_type": "display_data",
          "data": {
            "text/plain": [
              "<Figure size 640x480 with 1 Axes>"
            ],
            "image/png": "[encoded data removed]"
          },
          "metadata": {}
        }
      ]
    },
    {
      "cell_type": "markdown",
      "source": [
        "#Computation of Accuracy"
      ],
      "metadata": {
        "id": "4X4NedvtcFXw"
      }
    },
    {
      "cell_type": "code",
      "source": [
        "score, acc = model.evaluate(X_test, Y_test, verbose=2, batch_size=64)\n",
        "print(\"score: %.2f\" % (score))\n",
        "print(\"acc: %.2f\" % (acc))"
      ],
      "metadata": {
        "id": "HunX6YI7cJCc",
        "colab": {
          "base_uri": "https://localhost:8080/"
        },
        "outputId": "23617696-fbc3-4163-e399-dcaabfef9b32"
      },
      "execution_count": null,
      "outputs": [
        {
          "output_type": "stream",
          "name": "stdout",
          "text": [
            "157/157 - 4s - loss: 1.0062 - accuracy: 0.7418 - 4s/epoch - 23ms/step\n",
            "score: 1.01\n",
            "acc: 0.74\n"
          ]
        }
      ]
    },
    {
      "cell_type": "markdown",
      "source": [
        "#Preparing Sentiment for Testing"
      ],
      "metadata": {
        "id": "bwp63PMrcUYz"
      }
    },
    {
      "cell_type": "code",
      "source": [
        "#Initilize Text\n",
        "twt = ['I do not recommend this product']\n",
        "#Tockenization\n",
        "twt = tokenizer.texts_to_sequences(twt)\n",
        "#Pad It\n",
        "twt = tf.keras.preprocessing.sequence.pad_sequences(twt, maxlen=X.shape[1], dtype='int32', value=0)"
      ],
      "metadata": {
        "id": "seqkqIHucX6a"
      },
      "execution_count": null,
      "outputs": []
    },
    {
      "cell_type": "markdown",
      "source": [
        "#Predicting the sentiment"
      ],
      "metadata": {
        "id": "_GU_Jh6tctOL"
      }
    },
    {
      "cell_type": "code",
      "source": [
        "sentiment = model.predict(twt, batch_size=1)[0]\n",
        "print(sentiment)\n",
        "\n",
        "if(np.argmax(sentiment) == 0):\n",
        "    print(y_arr[0])\n",
        "elif (np.argmax(sentiment) == 1):\n",
        "    print(y_arr[1])"
      ],
      "metadata": {
        "id": "-rWwTTQAdJh9",
        "colab": {
          "base_uri": "https://localhost:8080/"
        },
        "outputId": "16ab8b81-0578-4dc1-f3c0-eee8f2d7e546"
      },
      "execution_count": null,
      "outputs": [
        {
          "output_type": "stream",
          "name": "stdout",
          "text": [
            "1/1 [==============================] - 0s 434ms/step\n",
            "[9.9908018e-01 9.1985916e-04]\n",
            "Negative\n"
          ]
        }
      ]
    }
  ]
}